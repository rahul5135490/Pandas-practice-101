{
 "cells": [
  {
   "cell_type": "markdown",
   "id": "fc58a665",
   "metadata": {},
   "source": [
    "# How to render Pandas DataFrame as HTML Table?"
   ]
  },
  {
   "cell_type": "raw",
   "id": "d8e62c27",
   "metadata": {},
   "source": [
    "Syntax: DataFrame.to_html()\n",
    "\n",
    "Return : Return the html format of a dataframe."
   ]
  },
  {
   "cell_type": "code",
   "execution_count": 1,
   "id": "b37ee93e",
   "metadata": {},
   "outputs": [],
   "source": [
    "# importing pandas as pd\n",
    "import pandas as pd\n",
    "from IPython.display import HTML"
   ]
  },
  {
   "cell_type": "code",
   "execution_count": 2,
   "id": "97f58dfd",
   "metadata": {},
   "outputs": [],
   "source": [
    "# creating the dataframe\n",
    "df = pd.DataFrame({\"Name\": ['Anurag', 'Manjeet', 'Shubham', \n",
    "                            'Saurabh', 'Ujjawal'],\n",
    "                    \n",
    "                   \"Address\": ['Patna', 'Delhi', 'Coimbatore',\n",
    "                               'Greater noida', 'Patna'],\n",
    "                    \n",
    "                   \"ID\": [20123, 20124, 20145, 20146, 20147],\n",
    "                    \n",
    "                   \"Sell\": [140000, 300000, 600000, 200000, 600000]})\n",
    " "
   ]
  },
  {
   "cell_type": "code",
   "execution_count": 3,
   "id": "8040a679",
   "metadata": {},
   "outputs": [
    {
     "data": {
      "text/html": [
       "<div>\n",
       "<style scoped>\n",
       "    .dataframe tbody tr th:only-of-type {\n",
       "        vertical-align: middle;\n",
       "    }\n",
       "\n",
       "    .dataframe tbody tr th {\n",
       "        vertical-align: top;\n",
       "    }\n",
       "\n",
       "    .dataframe thead th {\n",
       "        text-align: right;\n",
       "    }\n",
       "</style>\n",
       "<table border=\"1\" class=\"dataframe\">\n",
       "  <thead>\n",
       "    <tr style=\"text-align: right;\">\n",
       "      <th></th>\n",
       "      <th>Name</th>\n",
       "      <th>Address</th>\n",
       "      <th>ID</th>\n",
       "      <th>Sell</th>\n",
       "    </tr>\n",
       "  </thead>\n",
       "  <tbody>\n",
       "    <tr>\n",
       "      <th>0</th>\n",
       "      <td>Anurag</td>\n",
       "      <td>Patna</td>\n",
       "      <td>20123</td>\n",
       "      <td>140000</td>\n",
       "    </tr>\n",
       "    <tr>\n",
       "      <th>1</th>\n",
       "      <td>Manjeet</td>\n",
       "      <td>Delhi</td>\n",
       "      <td>20124</td>\n",
       "      <td>300000</td>\n",
       "    </tr>\n",
       "    <tr>\n",
       "      <th>2</th>\n",
       "      <td>Shubham</td>\n",
       "      <td>Coimbatore</td>\n",
       "      <td>20145</td>\n",
       "      <td>600000</td>\n",
       "    </tr>\n",
       "    <tr>\n",
       "      <th>3</th>\n",
       "      <td>Saurabh</td>\n",
       "      <td>Greater noida</td>\n",
       "      <td>20146</td>\n",
       "      <td>200000</td>\n",
       "    </tr>\n",
       "    <tr>\n",
       "      <th>4</th>\n",
       "      <td>Ujjawal</td>\n",
       "      <td>Patna</td>\n",
       "      <td>20147</td>\n",
       "      <td>600000</td>\n",
       "    </tr>\n",
       "  </tbody>\n",
       "</table>\n",
       "</div>"
      ],
      "text/plain": [
       "      Name        Address     ID    Sell\n",
       "0   Anurag          Patna  20123  140000\n",
       "1  Manjeet          Delhi  20124  300000\n",
       "2  Shubham     Coimbatore  20145  600000\n",
       "3  Saurabh  Greater noida  20146  200000\n",
       "4  Ujjawal          Patna  20147  600000"
      ]
     },
     "execution_count": 3,
     "metadata": {},
     "output_type": "execute_result"
    }
   ],
   "source": [
    "df"
   ]
  },
  {
   "cell_type": "code",
   "execution_count": 4,
   "id": "399c2377",
   "metadata": {},
   "outputs": [
    {
     "name": "stdout",
     "output_type": "stream",
     "text": [
      "Original DataFrame :\n"
     ]
    },
    {
     "data": {
      "text/html": [
       "<div>\n",
       "<style scoped>\n",
       "    .dataframe tbody tr th:only-of-type {\n",
       "        vertical-align: middle;\n",
       "    }\n",
       "\n",
       "    .dataframe tbody tr th {\n",
       "        vertical-align: top;\n",
       "    }\n",
       "\n",
       "    .dataframe thead th {\n",
       "        text-align: right;\n",
       "    }\n",
       "</style>\n",
       "<table border=\"1\" class=\"dataframe\">\n",
       "  <thead>\n",
       "    <tr style=\"text-align: right;\">\n",
       "      <th></th>\n",
       "      <th>Name</th>\n",
       "      <th>Address</th>\n",
       "      <th>ID</th>\n",
       "      <th>Sell</th>\n",
       "    </tr>\n",
       "  </thead>\n",
       "  <tbody>\n",
       "    <tr>\n",
       "      <th>0</th>\n",
       "      <td>Anurag</td>\n",
       "      <td>Patna</td>\n",
       "      <td>20123</td>\n",
       "      <td>140000</td>\n",
       "    </tr>\n",
       "    <tr>\n",
       "      <th>1</th>\n",
       "      <td>Manjeet</td>\n",
       "      <td>Delhi</td>\n",
       "      <td>20124</td>\n",
       "      <td>300000</td>\n",
       "    </tr>\n",
       "    <tr>\n",
       "      <th>2</th>\n",
       "      <td>Shubham</td>\n",
       "      <td>Coimbatore</td>\n",
       "      <td>20145</td>\n",
       "      <td>600000</td>\n",
       "    </tr>\n",
       "    <tr>\n",
       "      <th>3</th>\n",
       "      <td>Saurabh</td>\n",
       "      <td>Greater noida</td>\n",
       "      <td>20146</td>\n",
       "      <td>200000</td>\n",
       "    </tr>\n",
       "    <tr>\n",
       "      <th>4</th>\n",
       "      <td>Ujjawal</td>\n",
       "      <td>Patna</td>\n",
       "      <td>20147</td>\n",
       "      <td>600000</td>\n",
       "    </tr>\n",
       "  </tbody>\n",
       "</table>\n",
       "</div>"
      ],
      "text/plain": [
       "      Name        Address     ID    Sell\n",
       "0   Anurag          Patna  20123  140000\n",
       "1  Manjeet          Delhi  20124  300000\n",
       "2  Shubham     Coimbatore  20145  600000\n",
       "3  Saurabh  Greater noida  20146  200000\n",
       "4  Ujjawal          Patna  20147  600000"
      ]
     },
     "metadata": {},
     "output_type": "display_data"
    }
   ],
   "source": [
    "print(\"Original DataFrame :\")\n",
    "display(df)"
   ]
  },
  {
   "cell_type": "markdown",
   "id": "3ecee3d0",
   "metadata": {},
   "source": [
    "# Step 2: Convert Dataframe to Html Table"
   ]
  },
  {
   "cell_type": "code",
   "execution_count": 5,
   "id": "f0c0362c",
   "metadata": {},
   "outputs": [
    {
     "name": "stdout",
     "output_type": "stream",
     "text": [
      "<table border=\"1\" class=\"dataframe\">\n",
      "  <thead>\n",
      "    <tr style=\"text-align: right;\">\n",
      "      <th></th>\n",
      "      <th>Name</th>\n",
      "      <th>Address</th>\n",
      "      <th>ID</th>\n",
      "      <th>Sell</th>\n",
      "    </tr>\n",
      "  </thead>\n",
      "  <tbody>\n",
      "    <tr>\n",
      "      <th>0</th>\n",
      "      <td>Anurag</td>\n",
      "      <td>Patna</td>\n",
      "      <td>20123</td>\n",
      "      <td>140000</td>\n",
      "    </tr>\n",
      "    <tr>\n",
      "      <th>1</th>\n",
      "      <td>Manjeet</td>\n",
      "      <td>Delhi</td>\n",
      "      <td>20124</td>\n",
      "      <td>300000</td>\n",
      "    </tr>\n",
      "    <tr>\n",
      "      <th>2</th>\n",
      "      <td>Shubham</td>\n",
      "      <td>Coimbatore</td>\n",
      "      <td>20145</td>\n",
      "      <td>600000</td>\n",
      "    </tr>\n",
      "    <tr>\n",
      "      <th>3</th>\n",
      "      <td>Saurabh</td>\n",
      "      <td>Greater noida</td>\n",
      "      <td>20146</td>\n",
      "      <td>200000</td>\n",
      "    </tr>\n",
      "    <tr>\n",
      "      <th>4</th>\n",
      "      <td>Ujjawal</td>\n",
      "      <td>Patna</td>\n",
      "      <td>20147</td>\n",
      "      <td>600000</td>\n",
      "    </tr>\n",
      "  </tbody>\n",
      "</table>\n"
     ]
    }
   ],
   "source": [
    "result = df.to_html()\n",
    "print(result)"
   ]
  },
  {
   "cell_type": "markdown",
   "id": "fb701d6a",
   "metadata": {},
   "source": [
    "# Step 3: Write the Script For Convert DataFrame into HTML File"
   ]
  },
  {
   "cell_type": "code",
   "execution_count": 6,
   "id": "ad00d97c",
   "metadata": {},
   "outputs": [],
   "source": [
    "html = df.to_html()\n",
    " \n",
    "# write html to file\n",
    "text_file = open(\"index.html\", \"w\")\n",
    "text_file.write(html)\n",
    "text_file.close()"
   ]
  },
  {
   "cell_type": "code",
   "execution_count": 7,
   "id": "7f89d028",
   "metadata": {},
   "outputs": [
    {
     "data": {
      "text/html": [
       "<table border=\"1\" class=\"dataframe table table-stripped\">\n",
       "  <thead>\n",
       "    <tr style=\"text-align: right;\">\n",
       "      <th></th>\n",
       "      <th>Name</th>\n",
       "      <th>Address</th>\n",
       "      <th>ID</th>\n",
       "      <th>Sell</th>\n",
       "    </tr>\n",
       "  </thead>\n",
       "  <tbody>\n",
       "    <tr>\n",
       "      <th>0</th>\n",
       "      <td>Anurag</td>\n",
       "      <td>Patna</td>\n",
       "      <td>20123</td>\n",
       "      <td>140000</td>\n",
       "    </tr>\n",
       "    <tr>\n",
       "      <th>1</th>\n",
       "      <td>Manjeet</td>\n",
       "      <td>Delhi</td>\n",
       "      <td>20124</td>\n",
       "      <td>300000</td>\n",
       "    </tr>\n",
       "    <tr>\n",
       "      <th>2</th>\n",
       "      <td>Shubham</td>\n",
       "      <td>Coimbatore</td>\n",
       "      <td>20145</td>\n",
       "      <td>600000</td>\n",
       "    </tr>\n",
       "    <tr>\n",
       "      <th>3</th>\n",
       "      <td>Saurabh</td>\n",
       "      <td>Greater noida</td>\n",
       "      <td>20146</td>\n",
       "      <td>200000</td>\n",
       "    </tr>\n",
       "    <tr>\n",
       "      <th>4</th>\n",
       "      <td>Ujjawal</td>\n",
       "      <td>Patna</td>\n",
       "      <td>20147</td>\n",
       "      <td>600000</td>\n",
       "    </tr>\n",
       "  </tbody>\n",
       "</table>"
      ],
      "text/plain": [
       "<IPython.core.display.HTML object>"
      ]
     },
     "execution_count": 7,
     "metadata": {},
     "output_type": "execute_result"
    }
   ],
   "source": [
    "HTML(df.to_html(classes='table table-stripped'))\n"
   ]
  },
  {
   "cell_type": "code",
   "execution_count": null,
   "id": "d7f15cd5",
   "metadata": {},
   "outputs": [],
   "source": []
  }
 ],
 "metadata": {
  "kernelspec": {
   "display_name": "Python 3 (ipykernel)",
   "language": "python",
   "name": "python3"
  },
  "language_info": {
   "codemirror_mode": {
    "name": "ipython",
    "version": 3
   },
   "file_extension": ".py",
   "mimetype": "text/x-python",
   "name": "python",
   "nbconvert_exporter": "python",
   "pygments_lexer": "ipython3",
   "version": "3.11.5"
  }
 },
 "nbformat": 4,
 "nbformat_minor": 5
}
